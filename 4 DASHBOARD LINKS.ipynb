{
 "cells": [
  {
   "cell_type": "code",
   "execution_count": null,
   "id": "ca587136",
   "metadata": {},
   "outputs": [],
   "source": [
    "#  TABLEAU DASHBOARDS LINKS\n",
    "\n",
    "# https://public.tableau.com/views/midproject2/Dashboard1?:language=es-ES&publish=yes&:display_count=n&:origin=viz_share_link\n",
    "\n",
    "# https://public.tableau.com/views/midproject2/Dashboard2?:language=es-ES&publish=yes&:display_count=n&:origin=viz_share_link"
   ]
  }
 ],
 "metadata": {
  "kernelspec": {
   "display_name": "Python 3 (ipykernel)",
   "language": "python",
   "name": "python3"
  },
  "language_info": {
   "codemirror_mode": {
    "name": "ipython",
    "version": 3
   },
   "file_extension": ".py",
   "mimetype": "text/x-python",
   "name": "python",
   "nbconvert_exporter": "python",
   "pygments_lexer": "ipython3",
   "version": "3.9.12"
  }
 },
 "nbformat": 4,
 "nbformat_minor": 5
}
